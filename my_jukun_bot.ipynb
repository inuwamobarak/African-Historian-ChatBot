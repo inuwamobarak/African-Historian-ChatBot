{
  "nbformat": 4,
  "nbformat_minor": 0,
  "metadata": {
    "colab": {
      "provenance": []
    },
    "kernelspec": {
      "name": "python3",
      "display_name": "Python 3"
    },
    "language_info": {
      "name": "python"
    }
  },
  "cells": [
    {
      "cell_type": "markdown",
      "metadata": {
        "id": "fNGhLvresH7e"
      },
      "source": [
        "## Import necessary libraries"
      ]
    },
    {
      "cell_type": "code",
      "execution_count": null,
      "metadata": {
        "id": "17OwRDiIsH7f"
      },
      "outputs": [],
      "source": [
        "#importing dependencies\n",
        "import io\n",
        "import random\n",
        "import string\n",
        "import warnings\n",
        "import numpy as np\n",
        "#for peprocessing\n",
        "from sklearn.feature_extraction.text import TfidfVectorizer\n",
        "from sklearn.metrics.pairwise import cosine_similarity\n",
        "import warnings\n",
        "warnings.filterwarnings('ignore')"
      ]
    },
    {
      "cell_type": "code",
      "execution_count": null,
      "metadata": {
        "id": "3A0h82x-sH7j"
      },
      "outputs": [],
      "source": [
        "pip install nltk"
      ]
    },
    {
      "cell_type": "markdown",
      "metadata": {
        "id": "FcOE70_RsH7m"
      },
      "source": [
        "### Installing needed NLTK Packages\n",
        "\n",
        "\n"
      ]
    },
    {
      "cell_type": "code",
      "execution_count": null,
      "metadata": {
        "id": "OxM2IuXLsH7n"
      },
      "outputs": [],
      "source": [
        "import nltk\n",
        "from nltk.stem import WordNetLemmatizer\n",
        "nltk.download('popular', quiet=True) # for downloading packages\n",
        "nltk.download('punkt') # first-time use only\n",
        "nltk.download('wordnet') # first-time use only"
      ]
    },
    {
      "cell_type": "markdown",
      "metadata": {
        "id": "t77b6E1fsH7p"
      },
      "source": [
        "## Reading in the corpus"
      ]
    },
    {
      "cell_type": "code",
      "execution_count": null,
      "metadata": {
        "id": "Nv-ZL6ozsH7s"
      },
      "outputs": [],
      "source": [
        "#loading text file\n",
        "f=open('jukun-tribe.txt','r',errors = 'ignore')\n",
        "raw=f.read()\n",
        "raw = raw.lower()"
      ]
    },
    {
      "cell_type": "markdown",
      "metadata": {
        "id": "caVEi8jVsH7u"
      },
      "source": [
        "## Tokenisation"
      ]
    },
    {
      "cell_type": "code",
      "execution_count": null,
      "metadata": {
        "id": "5RqtbpvmsH7v"
      },
      "outputs": [],
      "source": [
        "sent_tokens = nltk.sent_tokenize(raw)# converts to list of sentences \n",
        "word_tokens = nltk.word_tokenize(raw)# converts to list of words"
      ]
    },
    {
      "cell_type": "code",
      "source": [
        "sent_tokens[:3]"
      ],
      "metadata": {
        "id": "-A3sHpG4wf9m"
      },
      "execution_count": null,
      "outputs": []
    },
    {
      "cell_type": "code",
      "source": [
        "word_tokens[:7]"
      ],
      "metadata": {
        "id": "Vz8HB3Z4wpsz"
      },
      "execution_count": null,
      "outputs": []
    },
    {
      "cell_type": "markdown",
      "metadata": {
        "id": "3-OlUnLIsH7v"
      },
      "source": [
        "## Preprocessing"
      ]
    },
    {
      "cell_type": "code",
      "execution_count": null,
      "metadata": {
        "id": "DBUCbaMRsH7w"
      },
      "outputs": [],
      "source": [
        "lemmer = nltk.stem.WordNetLemmatizer()\n",
        "#WordNet is a semantically-oriented dictionary of English included in NLTK.\n",
        "def LemTokens(tokens):\n",
        "    return [lemmer.lemmatize(token) for token in tokens]\n",
        "remove_punct_dict = dict((ord(punct), None) for punct in string.punctuation)\n",
        "\n",
        "def LemNormalize(text):\n",
        "    return LemTokens(nltk.word_tokenize(text.lower().translate(remove_punct_dict)))"
      ]
    },
    {
      "cell_type": "markdown",
      "metadata": {
        "id": "qt4UusvvsH7w"
      },
      "source": [
        "## Keyword matching\n",
        "\n",
        "Next, we shall define a function for a greeting by the bot i.e if a user’s input is a greeting, the bot shall return a greeting response.ELIZA uses a simple keyword matching for greetings. We will utilize the same concept here."
      ]
    },
    {
      "cell_type": "code",
      "execution_count": null,
      "metadata": {
        "id": "3PW3R_6GsH7x"
      },
      "outputs": [],
      "source": [
        "GREETING_INPUTS = (\"hello\", \"hi\", \"greetings\", \"sup\", \"what's up\",\"hey\",)\n",
        "GREETING_RESPONSES = [\"hi\", \"hey\", \"*nods*\", \"hi there\", \"hello\", \"I am glad! You are talking to me\"]\n",
        "def greeting(sentence):\n",
        " \n",
        "    for word in sentence.split():\n",
        "        if word.lower() in GREETING_INPUTS:\n",
        "            return random.choice(GREETING_RESPONSES)"
      ]
    },
    {
      "cell_type": "code",
      "execution_count": null,
      "metadata": {
        "id": "ChPPNhoQsH74"
      },
      "outputs": [],
      "source": [
        "def response(user_response):\n",
        "    robo_response=''\n",
        "    sent_tokens.append(user_response)\n",
        "    TfidfVec = TfidfVectorizer(tokenizer=LemNormalize, stop_words='english')\n",
        "    tfidf = TfidfVec.fit_transform(sent_tokens)\n",
        "    vals = cosine_similarity(tfidf[-1], tfidf)\n",
        "    idx=vals.argsort()[0][-2]\n",
        "    flat = vals.flatten()\n",
        "    flat.sort()\n",
        "    req_tfidf = flat[-2]\n",
        "    if(req_tfidf==0):\n",
        "        robo_response=robo_response+\"I am sorry! I don't understand you. Can we discuss arround the Jukun tribe?\"\n",
        "        return robo_response\n",
        "    else:\n",
        "        robo_response = robo_response+sent_tokens[idx]\n",
        "        return robo_response\n",
        "\n"
      ]
    },
    {
      "cell_type": "code",
      "execution_count": null,
      "metadata": {
        "id": "Ybu2Gd3msH75",
        "outputId": "9257e571-93e2-48e6-fe03-537365b8c48b",
        "colab": {
          "base_uri": "https://localhost:8080/"
        }
      },
      "outputs": [
        {
          "output_type": "stream",
          "name": "stdout",
          "text": [
            "Jukun-Bot: My name is Jukun-Bot. I am your jukun culture expert. You can call me a Historian. lol. If you want to end our conversion, type Bye!\n",
            "Type in your name: Mobarak\n",
            "Mobarak: How are you?\n",
            "Jukun-Bot: I am sorry! I don't understand you. Can we discuss arround the Jukun tribe?\n",
            "Mobarak: Where is the Jukun located\n",
            "Jukun-Bot: [5] the jukun are traditionally located in taraba, benue, nasarawa, plateau, adamawa, and gombe states in nigeria and parts of northwestern cameroon.\n",
            "Mobarak: What is the jukun atire?\n",
            "Jukun-Bot: the jukuns are divided into two major groups; the jukun wanu and jukun wapa.\n",
            "Mobarak: What is the traditional atire\n",
            "Jukun-Bot: the jukun traditional attire (adire) was the major wear of the day.\n",
            "Mobarak: Who are the Jukun Wanu?\n",
            "Jukun-Bot: the jukuns are divided into two major groups; the jukun wanu and jukun wapa.\n",
            "Mobarak: Wanu\n",
            "Jukun-Bot: the jukuns are divided into two major groups; the jukun wanu and jukun wapa.\n"
          ]
        }
      ],
      "source": [
        "flag=True\n",
        "print(\"Jukun-Bot: My name is Jukun-Bot. I am your jukun culture expert. You can call me a Historian. lol. If you want to end our conversion, type Bye!\")\n",
        "user_name = input(\"Type in your name: \")\n",
        "while(flag==True):\n",
        "    user_response = input(user_name+\": \")\n",
        "    user_response=user_response.lower()\n",
        "    if(user_response!='bye'):\n",
        "        if(user_response=='thanks' or user_response=='thank you' ):\n",
        "            flag=False\n",
        "            print(\"Jukun-Bot: You are welcome..\")\n",
        "        else:\n",
        "            if(greeting(user_response)!=None):\n",
        "                print(\"Jukun-Bot: \"+greeting(user_response))\n",
        "            else:\n",
        "                print(\"Jukun-Bot: \",end=\"\")\n",
        "                print(response(user_response))\n",
        "                sent_tokens.remove(user_response)\n",
        "    else:\n",
        "        flag=False\n",
        "        print(\"Jukun-Bot: Bye! take care..\")"
      ]
    }
  ]
}